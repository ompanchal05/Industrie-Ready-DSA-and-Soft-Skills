{
 "cells": [
  {
   "cell_type": "markdown",
   "id": "695f8e76",
   "metadata": {},
   "source": [
    "Day 5 - Bubble & Selection Sort\n",
    "Date : 29/06/2025"
   ]
  },
  {
   "cell_type": "code",
   "execution_count": 19,
   "id": "86ceab4a",
   "metadata": {},
   "outputs": [],
   "source": [
    "# bubblesort\n",
    "\n",
    "def bubble_sort(arr):\n",
    "    n = len(arr)\n",
    "    for i in range(n):\n",
    "        swapped = False\n",
    "        for j in range(0, n-i-1):\n",
    "            if arr[j] > arr[j+1]:\n",
    "                arr[j], arr[j+1] = arr[j+1], arr[j]\n",
    "                swapped = True\n",
    "        if not swapped:\n",
    "            break\n",
    "    return arr"
   ]
  },
  {
   "cell_type": "code",
   "execution_count": 20,
   "id": "d07e03b5",
   "metadata": {},
   "outputs": [
    {
     "name": "stdout",
     "output_type": "stream",
     "text": [
      "Sorted array is: [11, 12, 22, 25, 34, 64, 90]\n"
     ]
    }
   ],
   "source": [
    "arr = [64, 34, 25, 12, 22, 11, 90]\n",
    "sorted_arr = bubble_sort(arr)\n",
    "print(\"Sorted array is:\", sorted_arr)"
   ]
  },
  {
   "cell_type": "code",
   "execution_count": 21,
   "id": "2da919c6",
   "metadata": {},
   "outputs": [],
   "source": [
    "#Selection Sort\n",
    "def selection_sort(arr):\n",
    "    n = len(arr)\n",
    "    for i in range(n):\n",
    "        min_idx = i\n",
    "        for j in range(i+1, n):\n",
    "            if arr[j] < arr[min_idx]:\n",
    "                min_idx = j\n",
    "        arr[i], arr[min_idx] = arr[min_idx], arr[i]\n",
    "    return arr"
   ]
  },
  {
   "cell_type": "code",
   "execution_count": 22,
   "id": "da02134c",
   "metadata": {},
   "outputs": [
    {
     "name": "stdout",
     "output_type": "stream",
     "text": [
      "Sorted array is: [10, 13, 14, 29, 37]\n"
     ]
    }
   ],
   "source": [
    "arr = [29, 10, 13, 37, 14]\n",
    "sorted_arr = selection_sort(arr)\n",
    "print(\"Sorted array is:\", sorted_arr)"
   ]
  },
  {
   "cell_type": "code",
   "execution_count": 23,
   "id": "6778c6bb",
   "metadata": {},
   "outputs": [
    {
     "name": "stdout",
     "output_type": "stream",
     "text": [
      "Bubble Sorted array is: [11, 12, 22, 25, 34, 64, 90]\n"
     ]
    }
   ],
   "source": [
    "#Practice Problems :- \n",
    "\n",
    "# 1:- sort alist of integers using bubble sort and selection sort:-\n",
    "\n",
    "def practice_sort(arr, method='bubble'):\n",
    "    if method == 'bubble':\n",
    "        return bubble_sort(arr)\n",
    "    elif method == 'selection':\n",
    "        return selection_sort(arr)\n",
    "    else:\n",
    "        raise ValueError(\"Method must be 'bubble' or 'selection'\")\n",
    "arr = [64, 34, 25, 12, 22, 11, 90]\n",
    "sorted_bubble = practice_sort(arr, method='bubble') \n",
    "print(\"Bubble Sorted array is:\", sorted_bubble)"
   ]
  },
  {
   "cell_type": "code",
   "execution_count": 24,
   "id": "c4cd50c0",
   "metadata": {},
   "outputs": [
    {
     "name": "stdout",
     "output_type": "stream",
     "text": [
      "Sorted names are: ['Abhi', 'Om', 'Praveen', 'Ram', 'Siddhi']\n"
     ]
    }
   ],
   "source": [
    "#2 . sort a list of names aplhabetically selection sort:-\n",
    "\n",
    "name = [\"Abhi\",\"Ram\",\"Om\",\"Siddhi\",\"Praveen\"]\n",
    "\n",
    "for i in range(len(name)):\n",
    "    min_idx = i\n",
    "    for j in range(i+1, len(name)):\n",
    "        if name[j] < name[min_idx]:\n",
    "            min_idx = j\n",
    "    name[i], name[min_idx] = name[min_idx], name[i]\n",
    "\n",
    "print(\"Sorted names are:\", name)"
   ]
  },
  {
   "cell_type": "code",
   "execution_count": 25,
   "id": "e9d2da67",
   "metadata": {},
   "outputs": [
    {
     "name": "stdout",
     "output_type": "stream",
     "text": [
      "Sorted names are: ['Abhi', 'Om', 'Praveen', 'Ram', 'Siddhi']\n",
      "Total swaps made: 3\n"
     ]
    }
   ],
   "source": [
    "#3 count how many sweps bubble sort takes \n",
    "\n",
    "name = [\"Abhi\",\"Ram\",\"Om\",\"Siddhi\",\"Praveen\"]\n",
    "swaps = 0\n",
    "\n",
    "for i in range(len(name)):\n",
    "    min_idx = i\n",
    "    for j in range(i+1, len(name)):\n",
    "        if name[j] < name[min_idx]:\n",
    "            min_idx = j\n",
    "    if min_idx != i:\n",
    "        name[i], name[min_idx] = name[min_idx], name[i]\n",
    "        swaps += 1\n",
    "print(\"Sorted names are:\", name)\n",
    "print(\"Total swaps made:\", swaps)"
   ]
  },
  {
   "cell_type": "code",
   "execution_count": 26,
   "id": "5f2b8fd5",
   "metadata": {},
   "outputs": [
    {
     "name": "stdout",
     "output_type": "stream",
     "text": [
      "Decending sorted array is: [90, 64, 34, 25, 22, 12, 11]\n"
     ]
    }
   ],
   "source": [
    "#4 . modify selection sort to sort in descending order\n",
    "\n",
    "nums = [64, 34, 25, 12, 22, 11, 90]\n",
    "\n",
    "def selection_sort_desc(arr):\n",
    "    n = len(arr)\n",
    "    for i in range(n):\n",
    "        max_idx = i\n",
    "        for j in range(i+1, n):\n",
    "            if arr[j] > arr[max_idx]:\n",
    "                max_idx = j\n",
    "        arr[i], arr[max_idx] = arr[max_idx], arr[i]\n",
    "    return arr\n",
    "print(\"Decending sorted array is:\", selection_sort_desc(nums))"
   ]
  }
 ],
 "metadata": {
  "kernelspec": {
   "display_name": "Python 3",
   "language": "python",
   "name": "python3"
  },
  "language_info": {
   "codemirror_mode": {
    "name": "ipython",
    "version": 3
   },
   "file_extension": ".py",
   "mimetype": "text/x-python",
   "name": "python",
   "nbconvert_exporter": "python",
   "pygments_lexer": "ipython3",
   "version": "3.13.5"
  }
 },
 "nbformat": 4,
 "nbformat_minor": 5
}
