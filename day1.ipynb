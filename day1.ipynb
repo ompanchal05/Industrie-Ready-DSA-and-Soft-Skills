{
 "cells": [
  {
   "cell_type": "markdown",
   "id": "2e05ba25",
   "metadata": {},
   "source": [
    " Day 01 – Arrays Basics  \n",
    " Date: 25/06/2025\n",
    "\n",
    "---\n",
    "\n",
    "What is an Array?\n",
    "\n",
    "An **array** is a collection of elements stored in a **contiguous memory** block and accessed using **indices**.\n",
    "\n",
    "In Python, we use **lists** as dynamic arrays:\n",
    "\n",
    "```python\n",
    "arr = [10, 20, 30]\n",
    "print(arr[1])  # Output: 20\n"
   ]
  },
  {
   "cell_type": "code",
   "execution_count": 1,
   "id": "a8b1ea85",
   "metadata": {},
   "outputs": [
    {
     "name": "stdout",
     "output_type": "stream",
     "text": [
      "Original array: [10, 20, 30, 40, 50]\n"
     ]
    }
   ],
   "source": [
    "#1.create a array and print it\n",
    "arr = [10, 20, 30, 40, 50]\n",
    "print(\"Original array:\", arr)\n"
   ]
  },
  {
   "cell_type": "code",
   "execution_count": 2,
   "id": "36e70399",
   "metadata": {},
   "outputs": [
    {
     "name": "stdout",
     "output_type": "stream",
     "text": [
      "first element: 10\n",
      "last element: 50\n"
     ]
    }
   ],
   "source": [
    "#2. Accessing elements in an array\n",
    "print(\"first element:\", arr[0])\n",
    "print(\"last element:\", arr[-1])"
   ]
  },
  {
   "cell_type": "code",
   "execution_count": 3,
   "id": "91ada9a5",
   "metadata": {},
   "outputs": [
    {
     "name": "stdout",
     "output_type": "stream",
     "text": [
      "Updated array: [10, 20, 35, 40, 50]\n",
      "Array after updating first element: [15, 20, 35, 40, 50]\n"
     ]
    }
   ],
   "source": [
    "#3 . update an element in the array\n",
    "arr[2] = 35\n",
    "print(\"Updated array:\", arr)\n",
    "arr[0] = 15\n",
    "print(\"Array after updating first element:\", arr)"
   ]
  },
  {
   "cell_type": "code",
   "execution_count": 4,
   "id": "b6473f4a",
   "metadata": {},
   "outputs": [
    {
     "name": "stdout",
     "output_type": "stream",
     "text": [
      "Traversing the array:\n",
      "15 20 35 40 50 \n"
     ]
    }
   ],
   "source": [
    "#4. Transversing the array\n",
    "print(\"Traversing the array:\")\n",
    "for i in arr:\n",
    "    print(i, end=' ')\n",
    "print()"
   ]
  },
  {
   "cell_type": "code",
   "execution_count": 5,
   "id": "87b4d96e",
   "metadata": {},
   "outputs": [
    {
     "name": "stdout",
     "output_type": "stream",
     "text": [
      "Array after inserting 60: [15, 20, 35, 40, 50, 60]\n",
      "Array after inserting 25 at index 1: [15, 25, 20, 35, 40, 50, 60]\n"
     ]
    }
   ],
   "source": [
    "#5. Inserting an element in the array\n",
    "arr.append(60)\n",
    "print(\"Array after inserting 60:\", arr)\n",
    "arr.insert(1, 25)\n",
    "print(\"Array after inserting 25 at index 1:\", arr)"
   ]
  },
  {
   "cell_type": "code",
   "execution_count": 6,
   "id": "c27da926",
   "metadata": {},
   "outputs": [
    {
     "name": "stdout",
     "output_type": "stream",
     "text": [
      "Array after removing 35: [15, 20, 35, 40, 50]\n"
     ]
    }
   ],
   "source": [
    "#6. Deleting Elements\n",
    "arr.remove(60)\n",
    "del arr[1]\n",
    "print(\"Array after removing 35:\", arr)"
   ]
  },
  {
   "cell_type": "code",
   "execution_count": 7,
   "id": "6ba57aaf",
   "metadata": {},
   "outputs": [],
   "source": [
    "def find_max(arr):\n",
    "    max_val = arr[0]\n",
    "    for num in arr:\n",
    "        if num > max_val:\n",
    "            max_val = num\n",
    "    return max_val"
   ]
  },
  {
   "cell_type": "code",
   "execution_count": 8,
   "id": "ac5cc603",
   "metadata": {},
   "outputs": [],
   "source": [
    "def reverse_array(arr):\n",
    "    return arr[::-1]"
   ]
  },
  {
   "cell_type": "code",
   "execution_count": 9,
   "id": "aac28571",
   "metadata": {},
   "outputs": [],
   "source": [
    "def sum_array(arr):\n",
    "    return sum(arr)"
   ]
  }
 ],
 "metadata": {
  "kernelspec": {
   "display_name": "Python 3",
   "language": "python",
   "name": "python3"
  },
  "language_info": {
   "codemirror_mode": {
    "name": "ipython",
    "version": 3
   },
   "file_extension": ".py",
   "mimetype": "text/x-python",
   "name": "python",
   "nbconvert_exporter": "python",
   "pygments_lexer": "ipython3",
   "version": "3.13.5"
  }
 },
 "nbformat": 4,
 "nbformat_minor": 5
}
