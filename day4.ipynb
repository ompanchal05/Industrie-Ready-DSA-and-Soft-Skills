{
 "cells": [
  {
   "cell_type": "markdown",
   "id": "dc84341f",
   "metadata": {},
   "source": [
    "Day 04 – String Compression, Vowel Count & Frequency Map\n",
    "Date:28/06/2025  \n",
    "Category: Strings  \n",
    "Tags : #StringCompression #VowelCount #FrequencyMap  "
   ]
  },
  {
   "cell_type": "code",
   "execution_count": 37,
   "id": "1a81d5e7",
   "metadata": {},
   "outputs": [
    {
     "name": "stdout",
     "output_type": "stream",
     "text": [
      "a3b3c1d2\n",
      "a1b1c1\n"
     ]
    }
   ],
   "source": [
    "def compress_string(s):\n",
    "    if not s:\n",
    "        return \"\"\n",
    "    \n",
    "    result = \"\"\n",
    "    count = 1\n",
    "\n",
    "    for i in range(1, len(s)):\n",
    "        if s[i] == s[i - 1]:\n",
    "            count += 1\n",
    "        else:\n",
    "            result += s[i - 1] + str(count)\n",
    "            count = 1\n",
    "    \n",
    "    result += s[-1] + str(count)\n",
    "    return result\n",
    "\n",
    "# Test\n",
    "print(compress_string(\"aaabbbcdd\"))  \n",
    "print(compress_string(\"abc\"))        "
   ]
  },
  {
   "cell_type": "code",
   "execution_count": 38,
   "id": "f063029a",
   "metadata": {},
   "outputs": [
    {
     "name": "stdout",
     "output_type": "stream",
     "text": [
      "10\n"
     ]
    }
   ],
   "source": [
    "def count_vowels(s):\n",
    "    vowels = set('aeiouAEIOU')\n",
    "    count = sum(1 for char in s if char in vowels)\n",
    "    return count\n",
    "\n",
    "# Test\n",
    "print(count_vowels(\"Data Science is awesome!\"))  # Output: 10"
   ]
  },
  {
   "cell_type": "code",
   "execution_count": 39,
   "id": "9aae6b58",
   "metadata": {},
   "outputs": [
    {
     "name": "stdout",
     "output_type": "stream",
     "text": [
      "{'d': 1, 'a': 2, 't': 1, 's': 1, 'c': 2, 'i': 1, 'e': 2, 'n': 1}\n"
     ]
    }
   ],
   "source": [
    "def char_frequency(s):\n",
    "    freq = {}\n",
    "    for char in s:\n",
    "        if char != ' ':\n",
    "            freq[char] = freq.get(char, 0) + 1\n",
    "    return freq\n",
    "\n",
    "# Test\n",
    "print(char_frequency(\"data science\"))\n"
   ]
  },
  {
   "cell_type": "markdown",
   "id": "4cc163e5",
   "metadata": {},
   "source": [
    " Practice Problems – Day 04\n",
    "\n",
    "1. Compress the string \"aabcccccaaa\" → should return \"a2b1c5a3\"\n",
    "2. Write a function that returns vowels only from a sentence.\n",
    "3. Find the character with the highest frequency in \"mississippi\".\n",
    "4. Compress string only if the compressed version is shorter, else return original.\n",
    "5. Bonus: Create a histogram (text-based) from the frequency map.\n"
   ]
  },
  {
   "cell_type": "code",
   "execution_count": 40,
   "id": "f5280013",
   "metadata": {},
   "outputs": [
    {
     "name": "stdout",
     "output_type": "stream",
     "text": [
      "a2b1c5a3\n"
     ]
    }
   ],
   "source": [
    "#1 Compress the string \"aabcccccaaa\"\n",
    "def compress_string_easy(s):\n",
    "    result = \"\"\n",
    "    count = 1\n",
    "\n",
    "    for i in range(1, len(s)):\n",
    "        if s[i] == s[i - 1]:\n",
    "            count += 1\n",
    "        else:\n",
    "            result += s[i - 1] + str(count)\n",
    "            count = 1\n",
    "    result += s[-1] + str(count)  # add last char\n",
    "    return result\n",
    "\n",
    "# Test\n",
    "print(compress_string_easy(\"aabcccccaaa\"))  # Output: a2b1c5a3\n"
   ]
  },
  {
   "cell_type": "code",
   "execution_count": 41,
   "id": "34833f1e",
   "metadata": {},
   "outputs": [
    {
     "name": "stdout",
     "output_type": "stream",
     "text": [
      "aaieeiaeoe\n"
     ]
    }
   ],
   "source": [
    "#2 Return vowels only from a sentence\n",
    "\n",
    "def extract_vowels(sentence):\n",
    "    vowels = \"aeiouAEIOU\"\n",
    "    return ''.join([char for char in sentence if char in vowels])\n",
    "# Test\n",
    "print(extract_vowels(\"Data Science is awesome!\"))  \n"
   ]
  },
  {
   "cell_type": "code",
   "execution_count": 42,
   "id": "ea9e1e1f",
   "metadata": {},
   "outputs": [
    {
     "name": "stdout",
     "output_type": "stream",
     "text": [
      "Most frequent character: 'i' appears 4 times.\n"
     ]
    }
   ],
   "source": [
    "#3 Character with highest frequency in \"mississippi\" \n",
    "\n",
    "def max_freq_char(s):\n",
    "    freq = {}\n",
    "    for char in s:\n",
    "        freq[char] = freq.get(char, 0) + 1\n",
    "    \n",
    "    max_char = max(freq, key=freq.get)\n",
    "    return max_char, freq[max_char]\n",
    "\n",
    "# Test\n",
    "char, count = max_freq_char(\"mississippi\")\n",
    "print(f\"Most frequent character: '{char}' appears {count} times.\")  \n"
   ]
  },
  {
   "cell_type": "code",
   "execution_count": null,
   "id": "aabccec6",
   "metadata": {},
   "outputs": [
    {
     "name": "stdout",
     "output_type": "stream",
     "text": [
      "a2b1c5a3\n",
      "abc\n"
     ]
    }
   ],
   "source": [
    "#4 Return compressed string only if shorter, else return original\n",
    "def compress_conditional(s):\n",
    "    compressed = \"\"\n",
    "    count = 1\n",
    "\n",
    "    for i in range(1, len(s)):\n",
    "        if s[i] == s[i - 1]:\n",
    "            count += 1\n",
    "        else:\n",
    "            compressed += s[i - 1] + str(count)\n",
    "            count = 1\n",
    "    compressed += s[-1] + str(count)\n",
    "\n",
    "    return compressed if len(compressed) < len(s) else s\n",
    "\n",
    "# Test\n",
    "print(compress_conditional(\"aabcccccaaa\"))  \n",
    "print(compress_conditional(\"abc\"))         "
   ]
  },
  {
   "cell_type": "code",
   "execution_count": null,
   "id": "bd956860",
   "metadata": {},
   "outputs": [
    {
     "name": "stdout",
     "output_type": "stream",
     "text": [
      "d: #\n",
      "e: #\n",
      "h: #\n",
      "l: ###\n",
      "o: ##\n",
      "r: #\n",
      "w: #\n"
     ]
    }
   ],
   "source": [
    "#5 Bonus: Create a histogram (text-based) from the frequency map.\n",
    "def text_histogram(s):\n",
    "    freq = {}\n",
    "    for char in s:\n",
    "        if char != ' ':\n",
    "            freq[char] = freq.get(char, 0) + 1\n",
    "\n",
    "    for char in sorted(freq):\n",
    "        print(f\"{char}: {'#' * freq[char]}\")\n",
    "\n",
    "# Test\n",
    "text_histogram(\"hello world\")"
   ]
  }
 ],
 "metadata": {
  "kernelspec": {
   "display_name": "Python 3",
   "language": "python",
   "name": "python3"
  },
  "language_info": {
   "codemirror_mode": {
    "name": "ipython",
    "version": 3
   },
   "file_extension": ".py",
   "mimetype": "text/x-python",
   "name": "python",
   "nbconvert_exporter": "python",
   "pygments_lexer": "ipython3",
   "version": "3.13.5"
  }
 },
 "nbformat": 4,
 "nbformat_minor": 5
}
