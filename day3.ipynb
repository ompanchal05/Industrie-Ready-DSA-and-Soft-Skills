{
 "cells": [
  {
   "cell_type": "markdown",
   "id": "8b240da2",
   "metadata": {},
   "source": [
    "DAY = 3 :- Strings – Reverse, Palindrome, Anagram\n",
    " Summary:\n",
    "- String reverse:  `s[::-1]`\n",
    "- Palindrome:  `s == s[::-1]`\n",
    "- Anagram:  `sorted(s1) == sorted(s2)`\n"
   ]
  },
  {
   "cell_type": "code",
   "execution_count": 21,
   "id": "05a56b7a",
   "metadata": {},
   "outputs": [
    {
     "name": "stdout",
     "output_type": "stream",
     "text": [
      "olleh\n"
     ]
    }
   ],
   "source": [
    "# Reverse a string using slicing\n",
    "s = \"hello\"\n",
    "print(s[::-1])  "
   ]
  },
  {
   "cell_type": "code",
   "execution_count": 22,
   "id": "cf7a7ec7",
   "metadata": {},
   "outputs": [
    {
     "name": "stdout",
     "output_type": "stream",
     "text": [
      "True\n"
     ]
    }
   ],
   "source": [
    "# Palindrome check\n",
    "def is_palindrome(s):\n",
    "    return s == s[::-1]\n",
    "print(is_palindrome(\"madam\"))"
   ]
  },
  {
   "cell_type": "code",
   "execution_count": 23,
   "id": "c1428a8d",
   "metadata": {},
   "outputs": [
    {
     "name": "stdout",
     "output_type": "stream",
     "text": [
      "atad\n"
     ]
    }
   ],
   "source": [
    "# Practice Problem 1 :- Reverse a string manually (without slicing)\n",
    "def reverse_string(s):\n",
    "    result = \"\"\n",
    "    for char in s:\n",
    "        result = char + result  \n",
    "    return result\n",
    "print(reverse_string(\"data\"))  "
   ]
  },
  {
   "cell_type": "code",
   "execution_count": 24,
   "id": "1e977fe3",
   "metadata": {},
   "outputs": [
    {
     "name": "stdout",
     "output_type": "stream",
     "text": [
      "True\n",
      "False\n"
     ]
    }
   ],
   "source": [
    "#Practice Problem 2 :-Palindrome check ignoring spaces and case\n",
    "def is_clean_palindrome(s):\n",
    "    clean = ''.join(c.lower() for c in s if c.isalnum()) \n",
    "    return clean == clean[::-1]\n",
    "print(is_clean_palindrome(\"Was it a car or a cat I saw\"))  \n",
    "print(is_clean_palindrome(\"OpenAI is great\"))              "
   ]
  },
  {
   "cell_type": "code",
   "execution_count": 25,
   "id": "8439772b",
   "metadata": {},
   "outputs": [
    {
     "name": "stdout",
     "output_type": "stream",
     "text": [
      "True\n",
      "True\n",
      "True\n",
      "False\n"
     ]
    }
   ],
   "source": [
    "#Practice Problem 3 :- Case-insensitive anagram check\n",
    "def are_anagrams(s1, s2):\n",
    "    return sorted(s1.lower()) == sorted(s2.lower())\n",
    "print(are_anagrams(\"Triangle\", \"Integral\"))  \n",
    "print(are_anagrams(\"Hello\", \"Olelh\"))        \n",
    "print(are_anagrams(\"DSA\", \"ADS\"))            \n",
    "print(are_anagrams(\"DSA\", \"Science\"))        "
   ]
  }
 ],
 "metadata": {
  "kernelspec": {
   "display_name": "Python 3",
   "language": "python",
   "name": "python3"
  },
  "language_info": {
   "codemirror_mode": {
    "name": "ipython",
    "version": 3
   },
   "file_extension": ".py",
   "mimetype": "text/x-python",
   "name": "python",
   "nbconvert_exporter": "python",
   "pygments_lexer": "ipython3",
   "version": "3.13.5"
  }
 },
 "nbformat": 4,
 "nbformat_minor": 5
}
