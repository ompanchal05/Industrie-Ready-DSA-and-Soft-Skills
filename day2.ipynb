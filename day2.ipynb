{
 "cells": [
  {
   "cell_type": "markdown",
   "id": "f120db77",
   "metadata": {},
   "source": [
    "DAY 02 – Array Rotation + Prefix Sum | (26/06/2025)\n",
    "1. Arrayrotation (left, right)\n",
    "2. prefix sum\n",
    "3. Range sum: From index "
   ]
  },
  {
   "cell_type": "code",
   "execution_count": 17,
   "id": "4a375053",
   "metadata": {},
   "outputs": [
    {
     "name": "stdout",
     "output_type": "stream",
     "text": [
      "Left Rotated Array: [3, 4, 5, 1, 2]\n",
      "Right Rotated Array: [4, 5, 1, 2, 3]\n"
     ]
    }
   ],
   "source": [
    "#Array Rotation \n",
    "\n",
    "arr = [1, 2, 3, 4, 5]\n",
    "#LEFT ROTATION OF AN ARRAY\n",
    "d = 2 \n",
    "left_rotated_array = arr[d:] + arr[:d]\n",
    "print(\"Left Rotated Array:\", left_rotated_array)\n",
    "\n",
    "#RIGHT ROTATION OF AN ARRAY\n",
    "k= 2\n",
    "right_rotated_array = arr[-d:] + arr[:-d]\n",
    "print(\"Right Rotated Array:\", right_rotated_array)"
   ]
  },
  {
   "cell_type": "code",
   "execution_count": 18,
   "id": "8784003e",
   "metadata": {},
   "outputs": [
    {
     "name": "stdout",
     "output_type": "stream",
     "text": [
      "Prefix Sum Array: [10, 30, 60, 100, 150]\n"
     ]
    }
   ],
   "source": [
    "#prefix sum \n",
    "\n",
    "arr = [10, 20, 30, 40, 50]\n",
    "\n",
    "prefix = [0] * len(arr)\n",
    "prefix[0] = arr[0]\n",
    "\n",
    "for i in range(1, len(arr)):\n",
    "    prefix[i] = prefix[i - 1] + arr[i]\n",
    "\n",
    "print(\"Prefix Sum Array:\", prefix) "
   ]
  },
  {
   "cell_type": "code",
   "execution_count": null,
   "id": "50cd915c",
   "metadata": {},
   "outputs": [
    {
     "name": "stdout",
     "output_type": "stream",
     "text": [
      "sum from index 1 to 3: 90\n"
     ]
    }
   ],
   "source": [
    "#Range Sum Query\n",
    "l, r = 1 , 3\n",
    "range_sum = prefix[r] - (prefix[l - 1] if l > 0 else 0)\n",
    "print(f\"sum from index {l} to {r}:\" , range_sum)"
   ]
  }
 ],
 "metadata": {
  "kernelspec": {
   "display_name": "Python 3",
   "language": "python",
   "name": "python3"
  },
  "language_info": {
   "codemirror_mode": {
    "name": "ipython",
    "version": 3
   },
   "file_extension": ".py",
   "mimetype": "text/x-python",
   "name": "python",
   "nbconvert_exporter": "python",
   "pygments_lexer": "ipython3",
   "version": "3.13.5"
  }
 },
 "nbformat": 4,
 "nbformat_minor": 5
}
